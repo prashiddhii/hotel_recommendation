{
 "cells": [
  {
   "cell_type": "code",
   "execution_count": 1,
   "id": "b87268c4-dc2d-4916-a485-c1f1aec7de9f",
   "metadata": {},
   "outputs": [],
   "source": [
    "import pandas as pd"
   ]
  },
  {
   "cell_type": "code",
   "execution_count": 2,
   "id": "e271614f-aaa9-4ff9-b709-6b052157a0e7",
   "metadata": {},
   "outputs": [],
   "source": [
    "df=pd.read_csv('hotel_reviews.csv')"
   ]
  },
  {
   "cell_type": "code",
   "execution_count": 3,
   "id": "6d0080bd-807c-4c17-bd9c-76a07486e05b",
   "metadata": {},
   "outputs": [
    {
     "name": "stdout",
     "output_type": "stream",
     "text": [
      "   Index             Name                  Area Review_Date  \\\n",
      "0      0  Hotel The Pearl  Paharganj, New Delhi      Jul-23   \n",
      "1      1  Hotel The Pearl  Paharganj, New Delhi      Aug-23   \n",
      "2      2  Hotel The Pearl  Paharganj, New Delhi      Aug-23   \n",
      "3      3  Hotel The Pearl  Paharganj, New Delhi      Aug-23   \n",
      "4      4  Hotel The Pearl  Paharganj, New Delhi      Aug-23   \n",
      "\n",
      "                            Rating_attribute  Rating(Out of 10)  \\\n",
      "0                 Best budget friendly hotel                9.0   \n",
      "1                              Amazing place                9.0   \n",
      "2               Overall good stay. Economic.                9.0   \n",
      "3                                     Lovely                9.0   \n",
      "4  Great hotel Great staff and great staying                9.0   \n",
      "\n",
      "                                         Review_Text  \n",
      "0  Hotel the pearl is perfect place to stay in De...  \n",
      "1  Location of the hotel is perfect. The hotel is...  \n",
      "2                             Location, Indian food.  \n",
      "3  The location and the hotel itself is great. Ne...  \n",
      "4  Friendly and smiling staffs.. The reception st...  \n"
     ]
    }
   ],
   "source": [
    "print (df.head())"
   ]
  },
  {
   "cell_type": "code",
   "execution_count": 5,
   "id": "56112787-edfa-48b1-89d3-04ccfc021a15",
   "metadata": {},
   "outputs": [],
   "source": [
    "hotel_counts = df['Name'].value_counts()"
   ]
  },
  {
   "cell_type": "code",
   "execution_count": 6,
   "id": "a3afad74-c172-4970-abf3-55930b21dfa7",
   "metadata": {},
   "outputs": [
    {
     "name": "stdout",
     "output_type": "stream",
     "text": [
      "Name\n",
      "OYO Townhouse 023 CR Park Near Lotus Temple                                                                                                                                                                                                40\n",
      "Hotel Aura                                                                                                                                                                                                                                 40\n",
      "Delhi Pride Hotel                                                                                                                                                                                                                          40\n",
      "Hotel International Inn - Near Delhi Airport                                                                                                                                                                                               40\n",
      "Hotel Comforte Stay Indian Guest allowed only                                                                                                                                                                                              40\n",
      "                                                                                                                                                                                                                                           ..\n",
      "Collection O Hotel Swisston Palace                                                                                                                                                                                                          1\n",
      "Abuzz Oxfordcaps ShahpurJaat Delhi                                                                                                                                                                                                          1\n",
      "The New Anand Near Karol Bagh Metro Station                                                                                                                                                                                                 1\n",
      "Couples friendly south delhi foreigners place very safe for women and solo travellers along with private kitchen and washroom located in the heart of delhi lajpat nagar just steps away from the famous central markrt cal 92121,74700     1\n",
      "OYO Flagship Hotel Yuvraj Paalace                                                                                                                                                                                                           1\n",
      "Name: count, Length: 570, dtype: int64\n"
     ]
    }
   ],
   "source": [
    "print(hotel_counts)"
   ]
  },
  {
   "cell_type": "code",
   "execution_count": 9,
   "id": "8f662f48-e537-4292-b034-229973f07937",
   "metadata": {},
   "outputs": [
    {
     "name": "stdout",
     "output_type": "stream",
     "text": [
      "Name\n",
      "OYO Townhouse 023 CR Park Near Lotus Temple      40\n",
      "Hotel Aura                                       40\n",
      "Delhi Pride Hotel                                40\n",
      "Hotel International Inn - Near Delhi Airport     40\n",
      "Hotel Comforte Stay Indian Guest allowed only    40\n",
      "POP Hotel Relax Inn Near Select Citywalk Mall    40\n",
      "Raj Mahal Inn                                    40\n",
      "Hotel Kaushal Palace                             40\n",
      "The Neem                                         40\n",
      "Hotel Shanti Villa                               40\n",
      "Name: count, dtype: int64\n"
     ]
    }
   ],
   "source": [
    "top_n=10\n",
    "print(hotel_counts.head(top_n))"
   ]
  },
  {
   "cell_type": "code",
   "execution_count": null,
   "id": "86f5d13d-cfb2-4c00-b18a-288a4cb37154",
   "metadata": {},
   "outputs": [],
   "source": []
  }
 ],
 "metadata": {
  "kernelspec": {
   "display_name": "Python 3 (ipykernel)",
   "language": "python",
   "name": "python3"
  },
  "language_info": {
   "codemirror_mode": {
    "name": "ipython",
    "version": 3
   },
   "file_extension": ".py",
   "mimetype": "text/x-python",
   "name": "python",
   "nbconvert_exporter": "python",
   "pygments_lexer": "ipython3",
   "version": "3.12.3"
  }
 },
 "nbformat": 4,
 "nbformat_minor": 5
}
