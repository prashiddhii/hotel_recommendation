{
 "cells": [
  {
   "cell_type": "code",
   "execution_count": 1,
   "id": "3ea73c77-778d-4349-b43c-e8b57a8a2151",
   "metadata": {},
   "outputs": [],
   "source": [
    "import pandas as pd"
   ]
  },
  {
   "cell_type": "code",
   "execution_count": 13,
   "id": "1220f9cc-4a51-4969-81c4-ab92290655cc",
   "metadata": {},
   "outputs": [
    {
     "name": "stdout",
     "output_type": "stream",
     "text": [
      "(7001, 7)\n"
     ]
    }
   ],
   "source": [
    "df = pd.read_csv('hotel_reviews.csv')\n",
    "print (df.shape)"
   ]
  },
  {
   "cell_type": "code",
   "execution_count": 5,
   "id": "d39c4eb7-f6ae-4887-a805-5672030dd9d3",
   "metadata": {},
   "outputs": [
    {
     "name": "stdout",
     "output_type": "stream",
     "text": [
      "<class 'pandas.core.frame.DataFrame'>\n",
      "RangeIndex: 7001 entries, 0 to 7000\n",
      "Data columns (total 7 columns):\n",
      " #   Column             Non-Null Count  Dtype  \n",
      "---  ------             --------------  -----  \n",
      " 0   Index              7001 non-null   int64  \n",
      " 1   Name               7001 non-null   object \n",
      " 2   Area               7001 non-null   object \n",
      " 3   Review_Date        7001 non-null   object \n",
      " 4   Rating_attribute   7001 non-null   object \n",
      " 5   Rating(Out of 10)  7001 non-null   float64\n",
      " 6   Review_Text        6994 non-null   object \n",
      "dtypes: float64(1), int64(1), object(5)\n",
      "memory usage: 383.0+ KB\n"
     ]
    }
   ],
   "source": [
    "df.info()"
   ]
  },
  {
   "cell_type": "code",
   "execution_count": 18,
   "id": "596f592c-a42f-4e22-bce6-750cafbed6e4",
   "metadata": {},
   "outputs": [],
   "source": [
    "df.rename(columns={\n",
    "    'Name': 'hotel_name',\n",
    "    'Area': 'area',\n",
    "    'Review_Date': 'review_date',\n",
    "    'Rating(Out of 10)': 'rating_score',\n",
    "    'Review_Text': 'review_text',\n",
    "    'Rating_attribute': 'rating_attribute'\n",
    "}, inplace=True)"
   ]
  },
  {
   "cell_type": "code",
   "execution_count": 20,
   "id": "22fe2089-b74b-441f-a71c-74f25b013245",
   "metadata": {},
   "outputs": [],
   "source": [
    "#Dropping rows with no reviews\n",
    "df.dropna(subset=['review_text'], inplace=True)"
   ]
  },
  {
   "cell_type": "code",
   "execution_count": 21,
   "id": "421088df-1a41-4721-bd12-19b253a131cd",
   "metadata": {},
   "outputs": [
    {
     "data": {
      "text/plain": [
       "pandas.core.frame.DataFrame"
      ]
     },
     "execution_count": 21,
     "metadata": {},
     "output_type": "execute_result"
    }
   ],
   "source": [
    "type(df)"
   ]
  },
  {
   "cell_type": "code",
   "execution_count": 22,
   "id": "605001d0-b6e1-47e5-abe5-1e190908644e",
   "metadata": {},
   "outputs": [
    {
     "data": {
      "text/plain": [
       "hotel_name\n",
       "Delhi Pride Hotel                                40\n",
       "Hotel Aura                                       40\n",
       "Hotel Comforte Stay Indian Guest allowed only    40\n",
       "Hotel International Inn - Near Delhi Airport     40\n",
       "Hotel Kaushal Palace                             40\n",
       "dtype: int64"
      ]
     },
     "execution_count": 22,
     "metadata": {},
     "output_type": "execute_result"
    }
   ],
   "source": [
    "#Hotel with highest number of reviews\n",
    "df.pivot_table(index=['hotel_name'], aggfunc='size').nlargest()"
   ]
  },
  {
   "cell_type": "code",
   "execution_count": 23,
   "id": "3434debf-8c6e-4669-8288-6069aede232c",
   "metadata": {},
   "outputs": [
    {
     "data": {
      "text/plain": [
       "hotel_name\n",
       "Hotel Comforte Stay Indian Guest allowed only                                                                                                                                                                                              40\n",
       "Hotel Aura                                                                                                                                                                                                                                 40\n",
       "Delhi Pride Hotel                                                                                                                                                                                                                          40\n",
       "Hotel International Inn - Near Delhi Airport                                                                                                                                                                                               40\n",
       "OYO Townhouse 023 CR Park Near Lotus Temple                                                                                                                                                                                                40\n",
       "                                                                                                                                                                                                                                           ..\n",
       "HOTEL CITY INN                                                                                                                                                                                                                              1\n",
       "OYO Kings Court                                                                                                                                                                                                                             1\n",
       "Abuzz Oxfordcaps ShahpurJaat Delhi                                                                                                                                                                                                          1\n",
       "Couples friendly south delhi foreigners place very safe for women and solo travellers along with private kitchen and washroom located in the heart of delhi lajpat nagar just steps away from the famous central markrt cal 92121,74700     1\n",
       "Hotel Raaso Inn Laxmi nagar By The Arrow                                                                                                                                                                                                    1\n",
       "Name: count, Length: 570, dtype: int64"
      ]
     },
     "execution_count": 23,
     "metadata": {},
     "output_type": "execute_result"
    }
   ],
   "source": [
    "#Number of reviews of every hotel\n",
    "df['hotel_name'].value_counts()"
   ]
  },
  {
   "cell_type": "code",
   "execution_count": null,
   "id": "91cc9ecf-456b-41d4-baed-05814c16fb3e",
   "metadata": {},
   "outputs": [],
   "source": []
  }
 ],
 "metadata": {
  "kernelspec": {
   "display_name": "Python 3 (ipykernel)",
   "language": "python",
   "name": "python3"
  },
  "language_info": {
   "codemirror_mode": {
    "name": "ipython",
    "version": 3
   },
   "file_extension": ".py",
   "mimetype": "text/x-python",
   "name": "python",
   "nbconvert_exporter": "python",
   "pygments_lexer": "ipython3",
   "version": "3.12.3"
  }
 },
 "nbformat": 4,
 "nbformat_minor": 5
}
